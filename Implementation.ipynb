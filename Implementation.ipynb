{
 "cells": [
  {
   "cell_type": "markdown",
   "metadata": {
    "collapsed": true
   },
   "source": [
    "#  Numerical Implementation"
   ]
  },
  {
   "cell_type": "markdown",
   "metadata": {},
   "source": [
    "## Preamble\n",
    "* Define \"vec\" command for LaTeX $\\newcommand{vec}[1]{\\boldsymbol{#1}}$\n",
    "* Define \"mat\" command for LaTeX $\\newcommand{mat}[1]{\\mathbb{#1}}$\n",
    "* Define \"set\" command for LaTeX $\\newcommand{set}[1]{\\mathcal{#1}}$"
   ]
  },
  {
   "cell_type": "markdown",
   "metadata": {},
   "source": [
    "## Discretized Grid Dynamics"
   ]
  },
  {
   "cell_type": "markdown",
   "metadata": {},
   "source": [
    "### Spatial Discretization\n",
    "\n",
    "The basic field equation to be solved for the grid dynamics is as follows:\n",
    "\n",
    "\\begin{equation}\n",
    "    \\ddot{s}\n",
    "    + 2\\left(\\zeta\\omega - \\zeta^\\prime\\omega^\\prime \\nabla^2_\\xi \\right)\\dot{s}\n",
    "    + \\left(\\omega^2 - \\omega^{\\prime 2} \\nabla^2_\\xi \\right)s \n",
    "    = 2\\zeta\\omega\\dot{s}_s\n",
    "    + \\omega^2 s_s\n",
    "\\end{equation}\n",
    "\n",
    "Our discretization of this equation will be cell-centered to match the discretization scheme of DPLR, which is where we ultimately expect to implement this algorithm. Furthermore, since we do not require high accuracy numerics or or strong conservation properties, we will use second order finite differences to approximate the spatial derivatives:\n",
    "\n",
    "\\begin{equation}\n",
    "    \\nabla^2_\\xi s = s_{i-1,j} + s_{i+1,j} + s_{i,j-1} + s_{i,j+1} - 4s_{i,j} = -\\left(4s_i - \\sum_{j \\in \\mathcal{J}_i} s_j  \\right)\n",
    "\\end{equation}\n",
    "\n",
    "Where $\\set{J}_i$ is the set cells neighboring the $i$-th cell in the mesh. Applying the discretization, we arrive at the following set of coupled, ordinary differential equations: \n",
    "\n",
    "\\begin{equation}\n",
    "    \\ddot{s}_i\n",
    "    + 2\\left(\\zeta\\omega + 4\\zeta^\\prime\\omega^\\prime\\right) \\dot{s}_i\n",
    "    + \\left(\\omega^2 + 4\\omega^{\\prime 2} \\right) s_i \n",
    "    - 2\\zeta^\\prime\\omega^\\prime \\sum \\dot{s}_j\n",
    "    - \\omega^{\\prime 2}\\sum s_j\n",
    "    = 2\\zeta\\omega\\dot{s}_{s,i}\n",
    "    + \\omega^2 s_{s,i}\n",
    "\\end{equation}\n",
    "\n",
    "Let $\\vec{s}_i = [ s_i, \\dot{s}_i ]^T $. With this notation, we can re-write our second order differential equation as system of first order equations. \n",
    "\n",
    "\\begin{equation}\n",
    "    \\dot{\\vec{S}}_i \n",
    "    + \\left(\\mat{U} + \\mat{K} + 4\\mat{K}^\\prime \\right)\\vec{S}_i \n",
    "    - \\sum \\mat{K}^\\prime \\vec{S}_j\n",
    "    = \\mat{K}\\vec{S}_s\n",
    "\\end{equation}\n",
    "    \n",
    "Where\n",
    "\n",
    "\\begin{align}\n",
    "    \\mat{U} & = \\left[\\begin{array}{cc}\n",
    "        0 & 1 \\\\\n",
    "        0 & 0 \\\\\n",
    "    \\end{array}\\right] \\\\\n",
    "    \\mat{K} & = \\left[\\begin{array}{cc}\n",
    "        0 & 0 \\\\\n",
    "        \\omega^2 & 2\\zeta\\omega \\\\\n",
    "    \\end{array}\\right] \\\\\n",
    "    \\mat{K}^\\prime & = \\left[\\begin{array}{cc}\n",
    "        0 & 0 \\\\\n",
    "        \\omega^{\\prime 2} & 2\\zeta^\\prime\\omega^\\prime \\\\\n",
    "    \\end{array}\\right] \\\\\n",
    "\\end{align}\n"
   ]
  },
  {
   "cell_type": "markdown",
   "metadata": {},
   "source": [
    "### Temporal Discretization\n",
    "DLPR uses implicit time integration to circumvent the CFL restrictions associated with grids that have very fine near-wall spacing. The integration engine uses the 1st-order accurate Backward Euler scheme with the option of modifying the residual to achieve 2nd order accuracy. Since our grid dynamics equation is linear with constant coefficients, deriving the implicit time advancement equation is trivial.\n",
    "\n",
    "\\begin{equation}\n",
    "    \\frac{1}{\\Delta t} \\Delta \\vec{S}_i\n",
    "    + \\left( \\mat{U} + \\mat{K} + 4\\mat{K}^\\prime \\right) \n",
    "      \\left( \\vec{S}_i + \\Delta\\vec{S}_i \\right)\n",
    "    - \\sum \\mat{K}^\\prime \\left( \\vec{S}_j + \\Delta \\vec{S}_j \\right)\n",
    "    = \\mat{K} \\left( \\vec{S}_s + \\Delta \\vec{S}_s \\right)\n",
    "\\end{equation}\n",
    "\n",
    "\\begin{equation}\n",
    "    \\left(\\frac{\\mat{I}}{\\Delta t} + \\mat{U} + \\mat{K} + 4\\mat{K}^\\prime \\right) \\Delta \\vec{S}_i \n",
    "    - \\sum \\mat{K}^\\prime \\Delta \\vec{S}_j\n",
    "    - \\mat{K} \\Delta \\vec{S}_s\n",
    "    = \\vec{F}\\left(\\vec{S},\\vec{S}_s\\right)\n",
    "\\end{equation}\n",
    "\n",
    "Where\n",
    "\n",
    "\\begin{equation}\n",
    "    \\vec{F}\\left(\\vec{S},\\vec{S}_s\\right) \n",
    "    = \\mat{K}\\vec{S}_s \n",
    "    + \\sum \\mat{K}^\\prime \\vec{S}_j    \n",
    "    - \\left(\\mat{U} + \\mat{K} - 4\\mat{K}^\\prime \\right) \\vec{S}_i\n",
    "\\end{equation}\n",
    "\n",
    "In the case of a stationary shock where $\\Delta\\vec{S}_s = 0$, the equation above degenerates into a block-pentadiagonal linear system. However, while iterating to steady state, the shock will in fact move and change velocity depending on the local flow solution near the shock front. Therefore this is (one of) the terms whereby the linear solve for the grid dynamics couples into the linear solve for the flow dynamics.\n"
   ]
  },
  {
   "cell_type": "markdown",
   "metadata": {
    "collapsed": true
   },
   "source": [
    "## Discretized Fluid Dynamics"
   ]
  },
  {
   "cell_type": "markdown",
   "metadata": {},
   "source": [
    "### Spatial Discretization\n",
    "The fluid dynamics of for the problem are governed by the Navier Stokes equations, which can be written in integral form for an arbitrarily deforming control volume as follows: \n",
    "\n",
    "\\begin{equation}\n",
    "    \\frac{d}{dt} \\int_{V(t)} \\vec{U} dV + \\int_{\\partial V(t)} \\left( \\mat{F} - \\vec{U}\\dot{\\vec{x}}^T \\right) \\cdot d\\vec{A} = 0\n",
    "\\end{equation}\n",
    "\n",
    "Where, the flux matrix $\\mat{F}$ is \n",
    "\n",
    "\\begin{equation}\n",
    "    \\mat{F} = \\left[ \\vec{F}_z, \\vec{F}_y, \\vec{F}_z \\right]\n",
    "\\end{equation}\n",
    "\n",
    "A typical finite volume code will solve this conservation equation for each cell in the computational grid. Consider the $i$-th cell in a regular hexahedral mesh with the volume-average state $\\vec{U}_i$. In this situation, the integral of the flux across the boundary of the control volume will be approximated using a midpoint quadrature on each of the six faces as follows:\n",
    "\n",
    "\\begin{equation} \n",
    "    \\frac{d}{dt}\\vec{U}_iV_i \n",
    "    + \\sum_{j\\in\\set{J}_i} \\left( \\mat{F}_j - \\vec{U}_j\\dot{\\vec{x}}_j^T \\right) \\cdot \\vec{A}_j = 0\n",
    "\\end{equation} "
   ]
  },
  {
   "cell_type": "markdown",
   "metadata": {},
   "source": [
    "### Temporal Disretization\n",
    "\n",
    "To apply the Backward Euler scheme to the preceding discrete system is fairly involved. In the general case, the flux matrix is a non-linear function of the reconstructed fluid state on either side of the cell face, $\\vec{U}_j^L,\\vec{U}_j^R$ and the reconstructed gradients, $\\nabla\\vec{U}_j^L,\\nabla\\vec{U}_j^R$. These reconstructions are in turn computed from a non-linear combination of the cell-averaged data in neighboring cells and may take into account the geometry of the grid. "
   ]
  }
 ],
 "metadata": {
  "kernelspec": {
   "display_name": "Python 3",
   "language": "python",
   "name": "python3"
  },
  "language_info": {
   "codemirror_mode": {
    "name": "ipython",
    "version": 3
   },
   "file_extension": ".py",
   "mimetype": "text/x-python",
   "name": "python",
   "nbconvert_exporter": "python",
   "pygments_lexer": "ipython3",
   "version": "3.6.0"
  }
 },
 "nbformat": 4,
 "nbformat_minor": 2
}
